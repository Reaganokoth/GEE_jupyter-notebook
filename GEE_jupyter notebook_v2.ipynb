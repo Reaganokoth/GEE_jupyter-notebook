{
 "cells": [
  {
   "cell_type": "code",
   "execution_count": 258,
   "metadata": {},
   "outputs": [
    {
     "name": "stdout",
     "output_type": "stream",
     "text": [
      "Collecting package metadata (current_repodata.json): done\n",
      "Solving environment: done\n",
      "\n",
      "\n",
      "==> WARNING: A newer version of conda exists. <==\n",
      "  current version: 4.8.4\n",
      "  latest version: 4.8.5\n",
      "\n",
      "Please update conda by running\n",
      "\n",
      "    $ conda update -n base conda\n",
      "\n",
      "\n",
      "\n",
      "## Package Plan ##\n",
      "\n",
      "  environment location: /Users/user/anaconda3/envs/gee\n",
      "\n",
      "  added / updated specs:\n",
      "    - geopandas\n",
      "\n",
      "\n",
      "The following packages will be downloaded:\n",
      "\n",
      "    package                    |            build\n",
      "    ---------------------------|-----------------\n",
      "    boost-cpp-1.74.0           |       he5d75e3_0        15.6 MB  conda-forge\n",
      "    cairo-1.16.0               |    ha8983da_1005         1.3 MB  conda-forge\n",
      "    cfitsio-3.470              |       hdf94aef_6         1.3 MB  conda-forge\n",
      "    curl-7.71.1                |       hcb81553_5         131 KB  conda-forge\n",
      "    expat-2.2.9                |       hb1e8313_2         127 KB  conda-forge\n",
      "    fiona-1.8.17               |   py38hcfd527e_0         938 KB  conda-forge\n",
      "    fontconfig-2.13.1          |    h79c0d67_1002         273 KB  conda-forge\n",
      "    freexl-1.0.5               |    h0b31af3_1002          43 KB  conda-forge\n",
      "    gdal-3.1.2                 |   py38hbe58a21_1         1.4 MB  conda-forge\n",
      "    geopandas-0.8.1            |             py_0         925 KB  conda-forge\n",
      "    geotiff-1.6.0              |       h4e9c399_1         128 KB  conda-forge\n",
      "    glib-2.66.0                |       hdb5fb44_0         3.3 MB  conda-forge\n",
      "    hdf5-1.10.6                |nompi_haae91d6_101         3.0 MB  conda-forge\n",
      "    icu-67.1                   |       hb1e8313_0        12.6 MB  conda-forge\n",
      "    krb5-1.17.1                |       h75d18d8_3         1.2 MB  conda-forge\n",
      "    libcurl-7.71.1             |       h9bf37e3_5         297 KB  conda-forge\n",
      "    libdap4-3.20.6             |       h993cace_1         2.1 MB  conda-forge\n",
      "    libedit-3.1.20191231       |       h0678c8f_2         103 KB  conda-forge\n",
      "    libev-4.33                 |       haf1e3a3_1          99 KB  conda-forge\n",
      "    libgdal-3.1.2              |       h6dfbaa8_1         8.7 MB  conda-forge\n",
      "    libkml-1.3.0               |    h8ca2c65_1012         484 KB  conda-forge\n",
      "    libnetcdf-4.7.4            |nompi_hc5b2cf3_105         1.2 MB  conda-forge\n",
      "    libnghttp2-1.41.0          |       h7580e61_2         831 KB  conda-forge\n",
      "    libpq-12.3                 |       h489d428_0         2.6 MB  conda-forge\n",
      "    libspatialite-4.3.0a       |    h231dce8_1039         3.0 MB  conda-forge\n",
      "    libssh2-1.9.0              |       h8a08a2b_5         214 KB  conda-forge\n",
      "    libxml2-2.9.10             |       h2c6e4a5_2         1.2 MB  conda-forge\n",
      "    poppler-0.89.0             |       h3232a60_1         1.6 MB  conda-forge\n",
      "    postgresql-12.3            |       h62ab893_0         4.5 MB  conda-forge\n",
      "    proj-7.1.0                 |       h45baca5_1         2.4 MB  conda-forge\n",
      "    pyproj-2.6.1.post1         |   py38hf032eb0_1         390 KB  conda-forge\n",
      "    rtree-0.9.4                |   py38h08f867b_1          44 KB  conda-forge\n",
      "    shapely-1.7.1              |   py38h8918236_0         407 KB  conda-forge\n",
      "    tiledb-2.0.8               |       h8973ade_0         2.1 MB  conda-forge\n",
      "    xerces-c-3.2.3             |       h0a0444a_1         1.5 MB  conda-forge\n",
      "    ------------------------------------------------------------\n",
      "                                           Total:        76.0 MB\n",
      "\n",
      "The following NEW packages will be INSTALLED:\n",
      "\n",
      "  boost-cpp          conda-forge/osx-64::boost-cpp-1.74.0-he5d75e3_0\n",
      "  cairo              conda-forge/osx-64::cairo-1.16.0-ha8983da_1005\n",
      "  cfitsio            conda-forge/osx-64::cfitsio-3.470-hdf94aef_6\n",
      "  click-plugins      conda-forge/noarch::click-plugins-1.1.1-py_0\n",
      "  cligj              conda-forge/noarch::cligj-0.5.0-py_0\n",
      "  curl               conda-forge/osx-64::curl-7.71.1-hcb81553_5\n",
      "  expat              conda-forge/osx-64::expat-2.2.9-hb1e8313_2\n",
      "  fiona              conda-forge/osx-64::fiona-1.8.17-py38hcfd527e_0\n",
      "  fontconfig         conda-forge/osx-64::fontconfig-2.13.1-h79c0d67_1002\n",
      "  freexl             conda-forge/osx-64::freexl-1.0.5-h0b31af3_1002\n",
      "  gdal               conda-forge/osx-64::gdal-3.1.2-py38hbe58a21_1\n",
      "  geopandas          conda-forge/noarch::geopandas-0.8.1-py_0\n",
      "  geos               conda-forge/osx-64::geos-3.8.1-h4a8c4bd_0\n",
      "  geotiff            conda-forge/osx-64::geotiff-1.6.0-h4e9c399_1\n",
      "  giflib             conda-forge/osx-64::giflib-5.2.1-h0b31af3_2\n",
      "  glib               conda-forge/osx-64::glib-2.66.0-hdb5fb44_0\n",
      "  hdf4               conda-forge/osx-64::hdf4-4.2.13-h84186c3_1003\n",
      "  hdf5               conda-forge/osx-64::hdf5-1.10.6-nompi_haae91d6_101\n",
      "  icu                conda-forge/osx-64::icu-67.1-hb1e8313_0\n",
      "  json-c             conda-forge/osx-64::json-c-0.13.1-h575e443_1002\n",
      "  kealib             conda-forge/osx-64::kealib-1.4.13-h40102fb_1\n",
      "  krb5               conda-forge/osx-64::krb5-1.17.1-h75d18d8_3\n",
      "  libcurl            conda-forge/osx-64::libcurl-7.71.1-h9bf37e3_5\n",
      "  libdap4            conda-forge/osx-64::libdap4-3.20.6-h993cace_1\n",
      "  libedit            conda-forge/osx-64::libedit-3.1.20191231-h0678c8f_2\n",
      "  libev              conda-forge/osx-64::libev-4.33-haf1e3a3_1\n",
      "  libgdal            conda-forge/osx-64::libgdal-3.1.2-h6dfbaa8_1\n",
      "  libkml             conda-forge/osx-64::libkml-1.3.0-h8ca2c65_1012\n",
      "  libnetcdf          conda-forge/osx-64::libnetcdf-4.7.4-nompi_hc5b2cf3_105\n",
      "  libnghttp2         conda-forge/osx-64::libnghttp2-1.41.0-h7580e61_2\n",
      "  libpq              conda-forge/osx-64::libpq-12.3-h489d428_0\n",
      "  libspatialindex    conda-forge/osx-64::libspatialindex-1.9.3-h4a8c4bd_3\n",
      "  libspatialite      conda-forge/osx-64::libspatialite-4.3.0a-h231dce8_1039\n",
      "  libssh2            conda-forge/osx-64::libssh2-1.9.0-h8a08a2b_5\n",
      "  libxml2            conda-forge/osx-64::libxml2-2.9.10-h2c6e4a5_2\n",
      "  munch              conda-forge/noarch::munch-2.5.0-py_0\n",
      "  openjpeg           conda-forge/osx-64::openjpeg-2.3.1-h254dc36_3\n",
      "  pcre               conda-forge/osx-64::pcre-8.44-h4a8c4bd_0\n",
      "  pixman             conda-forge/osx-64::pixman-0.38.0-h01d97ff_1003\n",
      "  poppler            conda-forge/osx-64::poppler-0.89.0-h3232a60_1\n",
      "  poppler-data       conda-forge/noarch::poppler-data-0.4.9-1\n",
      "  postgresql         conda-forge/osx-64::postgresql-12.3-h62ab893_0\n",
      "  proj               conda-forge/osx-64::proj-7.1.0-h45baca5_1\n",
      "  pyproj             conda-forge/osx-64::pyproj-2.6.1.post1-py38hf032eb0_1\n",
      "  rtree              conda-forge/osx-64::rtree-0.9.4-py38h08f867b_1\n",
      "  shapely            conda-forge/osx-64::shapely-1.7.1-py38h8918236_0\n",
      "  tbb                conda-forge/osx-64::tbb-2019.9-ha1b3eb9_1\n",
      "  tiledb             conda-forge/osx-64::tiledb-2.0.8-h8973ade_0\n",
      "  tzcode             conda-forge/osx-64::tzcode-2020a-h0b31af3_0\n",
      "  xerces-c           conda-forge/osx-64::xerces-c-3.2.3-h0a0444a_1\n",
      "\n",
      "\n",
      "\n",
      "Downloading and Extracting Packages\n",
      "proj-7.1.0           | 2.4 MB    | ##################################### | 100% \n",
      "cfitsio-3.470        | 1.3 MB    | ##################################### | 100% \n",
      "libgdal-3.1.2        | 8.7 MB    | ##################################### | 100% \n",
      "freexl-1.0.5         | 43 KB     | ##################################### | 100% \n",
      "libnghttp2-1.41.0    | 831 KB    | ##################################### | 100% \n",
      "libspatialite-4.3.0a | 3.0 MB    | ##################################### | 100% \n",
      "icu-67.1             | 12.6 MB   | ##################################### | 100% \n",
      "krb5-1.17.1          | 1.2 MB    | ##################################### | 100% \n",
      "xerces-c-3.2.3       | 1.5 MB    | ##################################### | 100% \n",
      "cairo-1.16.0         | 1.3 MB    | ##################################### | 100% \n",
      "libxml2-2.9.10       | 1.2 MB    | ##################################### | 100% \n",
      "libedit-3.1.20191231 | 103 KB    | ##################################### | 100% \n",
      "libnetcdf-4.7.4      | 1.2 MB    | ##################################### | 100% \n",
      "libkml-1.3.0         | 484 KB    | ##################################### | 100% \n",
      "fiona-1.8.17         | 938 KB    | ##################################### | 100% \n",
      "boost-cpp-1.74.0     | 15.6 MB   | ##################################### | 100% \n",
      "geopandas-0.8.1      | 925 KB    | ##################################### | 100% \n",
      "rtree-0.9.4          | 44 KB     | ##################################### | 100% \n",
      "libcurl-7.71.1       | 297 KB    | ##################################### | 100% \n",
      "glib-2.66.0          | 3.3 MB    | ##################################### | 100% \n",
      "gdal-3.1.2           | 1.4 MB    | ##################################### | 100% \n",
      "geotiff-1.6.0        | 128 KB    | ##################################### | 100% \n",
      "libdap4-3.20.6       | 2.1 MB    | ##################################### | 100% \n",
      "libpq-12.3           | 2.6 MB    | ##################################### | 100% \n",
      "libssh2-1.9.0        | 214 KB    | ##################################### | 100% \n",
      "fontconfig-2.13.1    | 273 KB    | ##################################### | 100% \n",
      "pyproj-2.6.1.post1   | 390 KB    | ##################################### | 100% \n",
      "poppler-0.89.0       | 1.6 MB    | ##################################### | 100% \n",
      "expat-2.2.9          | 127 KB    | ##################################### | 100% \n",
      "postgresql-12.3      | 4.5 MB    | ##################################### | 100% \n",
      "tiledb-2.0.8         | 2.1 MB    | ##################################### | 100% \n",
      "hdf5-1.10.6          | 3.0 MB    | ##################################### | 100% \n",
      "curl-7.71.1          | 131 KB    | ##################################### | 100% \n",
      "libev-4.33           | 99 KB     | ##################################### | 100% \n",
      "shapely-1.7.1        | 407 KB    | ##################################### | 100% \n",
      "Preparing transaction: done\n",
      "Verifying transaction: done\n",
      "Executing transaction: done\n",
      "\n",
      "Note: you may need to restart the kernel to use updated packages.\n"
     ]
    }
   ],
   "source": [
    "conda install geopandas"
   ]
  },
  {
   "cell_type": "code",
   "execution_count": 207,
   "metadata": {},
   "outputs": [
    {
     "data": {
      "text/html": [
       "<p>To authorize access needed by Earth Engine, open the following\n",
       "        URL in a web browser and follow the instructions:</p>\n",
       "        <p><a href=https://accounts.google.com/o/oauth2/auth?client_id=517222506229-vsmmajv00ul0bs7p89v5m89qs8eb9359.apps.googleusercontent.com&scope=https%3A%2F%2Fwww.googleapis.com%2Fauth%2Fearthengine+https%3A%2F%2Fwww.googleapis.com%2Fauth%2Fdevstorage.full_control&redirect_uri=urn%3Aietf%3Awg%3Aoauth%3A2.0%3Aoob&response_type=code&code_challenge=Dgals7Wm0vxd_WMmAom-LEJvbfFirFoefK2-X8Q2KL0&code_challenge_method=S256>https://accounts.google.com/o/oauth2/auth?client_id=517222506229-vsmmajv00ul0bs7p89v5m89qs8eb9359.apps.googleusercontent.com&scope=https%3A%2F%2Fwww.googleapis.com%2Fauth%2Fearthengine+https%3A%2F%2Fwww.googleapis.com%2Fauth%2Fdevstorage.full_control&redirect_uri=urn%3Aietf%3Awg%3Aoauth%3A2.0%3Aoob&response_type=code&code_challenge=Dgals7Wm0vxd_WMmAom-LEJvbfFirFoefK2-X8Q2KL0&code_challenge_method=S256</a></p>\n",
       "        <p>The authorization workflow will generate a code, which you\n",
       "        should paste in the box below</p>\n",
       "        "
      ],
      "text/plain": [
       "<IPython.core.display.HTML object>"
      ]
     },
     "metadata": {},
     "output_type": "display_data"
    },
    {
     "name": "stdout",
     "output_type": "stream",
     "text": [
      "Enter verification code: 4/4AEOv5KXFS-_bLaGu0X9whJUtA-4iyClo8QuHoMKhEmA6CeB-XbQwb8\n",
      "\n",
      "Successfully saved authorization token.\n"
     ]
    }
   ],
   "source": [
    "import geemap\n",
    "import ee\n",
    "import os\n",
    "ee.Initialize()\n",
    "ee.Authenticate()"
   ]
  },
  {
   "cell_type": "code",
   "execution_count": 187,
   "metadata": {
    "scrolled": true
   },
   "outputs": [
    {
     "data": {
      "application/vnd.jupyter.widget-view+json": {
       "model_id": "98178cb8e73c4239ac26b6b5c7d5e3fd",
       "version_major": 2,
       "version_minor": 0
      },
      "text/plain": [
       "Map(center=[40, -100], controls=(WidgetControl(options=['position'], widget=HBox(children=(ToggleButton(value=…"
      ]
     },
     "metadata": {},
     "output_type": "display_data"
    }
   ],
   "source": [
    "#Display simple map\n",
    "Map = geemap.Map () \n",
    "Map\n"
   ]
  },
  {
   "cell_type": "code",
   "execution_count": null,
   "metadata": {},
   "outputs": [],
   "source": []
  },
  {
   "cell_type": "code",
   "execution_count": 188,
   "metadata": {},
   "outputs": [],
   "source": [
    "#choose which basemap to use... default is google basemap\n",
    "Map.add_basemap(\"Google Maps\")"
   ]
  },
  {
   "cell_type": "code",
   "execution_count": 249,
   "metadata": {},
   "outputs": [],
   "source": [
    "Map.centerObject(ROI, 6)"
   ]
  },
  {
   "cell_type": "code",
   "execution_count": 190,
   "metadata": {},
   "outputs": [],
   "source": [
    "# defining ROI\n",
    "xmin,ymin,xmax,ymax = [122.7328125,72.187559318, 129.47779664, 73.97591048]\n",
    "\n",
    "ROI = ee.Geometry.Rectangle([xmin,ymin,xmax,ymax])"
   ]
  },
  {
   "cell_type": "code",
   "execution_count": 191,
   "metadata": {},
   "outputs": [],
   "source": [
    "#import Landsat 8 images between june and August 2018 falling within ROI\n",
    "images2018 = ee.ImageCollection('LANDSAT/LC08/C01/T1_SR')\\\n",
    "         .filterBounds(ROI).filterDate('2018-06-01', '2018-08-31')"
   ]
  },
  {
   "cell_type": "code",
   "execution_count": 192,
   "metadata": {},
   "outputs": [],
   "source": [
    "gsw = ee.Image('JRC/GSW1_0/GlobalSurfaceWater').clip(ROI);\n",
    "occurrence = gsw.select('occurrence')\n",
    "#Map.addLayer(occurrence,'Water Occurrence (1984-2015)', True, 0.5);"
   ]
  },
  {
   "cell_type": "code",
   "execution_count": 193,
   "metadata": {},
   "outputs": [],
   "source": [
    "#Visualization params\n",
    "VIS_OCCURRENCE = {\n",
    "        'min': 0,\n",
    "        'max': 100,\n",
    "        'palette': ['red', 'blue']}\n"
   ]
  },
  {
   "cell_type": "code",
   "execution_count": 194,
   "metadata": {},
   "outputs": [],
   "source": [
    "occ = occurrence.updateMask(occurrence.divide(100))"
   ]
  },
  {
   "cell_type": "code",
   "execution_count": 195,
   "metadata": {},
   "outputs": [],
   "source": [
    "Map.addLayer(occ,VIS_OCCURRENCE , 'occurrence', True, 0.5)"
   ]
  },
  {
   "cell_type": "code",
   "execution_count": 196,
   "metadata": {},
   "outputs": [],
   "source": [
    "# --------Mask pixels with clouds and cloud shadows ---------\n",
    "\n",
    "# Surface reflectance products come with a 'pixel_qa' band\n",
    "\n",
    "# create function to mask clouds, cloud shadows, snow\n",
    "\n",
    "def maskClouds(image):\n",
    "  pixel_qa = image.select('pixel_qa')\n",
    "  return image.updateMask(pixel_qa.eq(322)) # keep clear (0) and water (1) pixels  \n",
    "\n",
    "# apply the masking function on the image collection\n",
    "images2018_masked = images2018.map(maskClouds)\n",
    "\n",
    "# visualize the first image in the collection, pre- and post- mask\n",
    "visParams = {\n",
    "    'bands': ['B4','B3','B2'], \n",
    "    'min': 0, \n",
    "    'max': 3000}\n",
    "\n",
    "Map.addLayer(ee.Image(images2018_masked.first()), visParams, 'cloudsmasked_2018', False)\n",
    "Map.addLayer(ee.Image(images2018.first()), visParams, 'original_2018', False)"
   ]
  },
  {
   "cell_type": "code",
   "execution_count": 197,
   "metadata": {},
   "outputs": [],
   "source": [
    "#Calculate ndvi\n",
    "\n",
    "def getNDVI(img):\n",
    "  return img.addBands(img.normalizedDifference(ee.List(['B5', 'B4'])).rename('NDVI'))"
   ]
  },
  {
   "cell_type": "code",
   "execution_count": 198,
   "metadata": {},
   "outputs": [],
   "source": [
    "#Visualization params for NDVI\n",
    "ndviPalette = ['FFFFFF', 'CE7E45', 'DF923D', 'F1B555', 'FCD163', '99B718',\n",
    "               '74A901', '66A000', '529400', '3E8601', '207401', '056201',\n",
    "               '004C00', '023B01', '012E01', '011D01', '011301'];\n",
    "               "
   ]
  },
  {
   "cell_type": "code",
   "execution_count": 199,
   "metadata": {},
   "outputs": [],
   "source": [
    "# \"map\" the NDVI band over image collection\n",
    "ndvi2018 = images2018_masked.map(getNDVI);"
   ]
  },
  {
   "cell_type": "code",
   "execution_count": 200,
   "metadata": {},
   "outputs": [],
   "source": [
    "# print one image to see the band is now there\n",
    "#print(ee.Image(ndvi2018.first()));"
   ]
  },
  {
   "cell_type": "code",
   "execution_count": 201,
   "metadata": {},
   "outputs": [],
   "source": [
    "#for each pixel, select the \"best\" set of bands from available images\n",
    "#based on the maximum NDVI/greenness\n",
    "\n",
    "#composite the image based on max NDVI\n",
    "#this code creats a single image composit based on max NDVI value\n",
    "composite = ndvi2018.qualityMosaic('NDVI').clip(ROI);\n",
    "#print(composite);"
   ]
  },
  {
   "cell_type": "code",
   "execution_count": 202,
   "metadata": {},
   "outputs": [],
   "source": [
    "#Visualize true color composite and compare with ndvi\n",
    "Map.addLayer(composite.select('NDVI'),\n",
    "            {'min':0, 'max': 1, 'palette': ndviPalette}, 'ndvi_2018');\n",
    "Map.addLayer(composite, {'bands': ['B4', 'B3', 'B2'], 'min': 0, 'max': 3000}, 'TC_composite_2018', False);\n",
    "\n"
   ]
  },
  {
   "cell_type": "code",
   "execution_count": 217,
   "metadata": {},
   "outputs": [],
   "source": [
    "#/* color: #206f1b */\n",
    "MESH =ee.FeatureCollection(\n",
    "     [ee.Feature("
   ]
  },
  {
   "cell_type": "code",
   "execution_count": 239,
   "metadata": {},
   "outputs": [],
   "source": [
    "# Create an empty image into which to paint the features, cast to byte.\n",
    "empty = ee.Image().byte()\n",
    "\n",
    "# Paint all the polygon edges with the same number and 'width', display.\n",
    "outline = empty.paint(**{\n",
    "  'featureCollection': MESH,\n",
    "  'color': 1,\n",
    "  'width': 3\n",
    "})\n",
    "\n"
   ]
  },
  {
   "cell_type": "code",
   "execution_count": 218,
   "metadata": {},
   "outputs": [],
   "source": [
    "#merge classes\n",
    "#classNames = geemMapee.FeatureCollection(MESH.merge(DSH).merge(GSSH).merge(WSMT).merge(DT).merger(PC).merge(SAND).merge(WATER))\n",
    "#print (classNames)"
   ]
  },
  {
   "cell_type": "code",
   "execution_count": 219,
   "metadata": {},
   "outputs": [],
   "source": [
    "#Map.addLayer(MESH, {'color': '#206f1b'}, 'MESH')\n",
    "#Map.addLayer(DSH, {'color': '0000FF'}, '#777957')\n"
   ]
  },
  {
   "cell_type": "code",
   "execution_count": 221,
   "metadata": {},
   "outputs": [],
   "source": [
    "Map.addLayer(image3, {\n",
    "    'palette': ['000000', 'FF0000', '00FF00', '0000FF'],\n",
    "    'max': 3,\n",
    "    'opacity': 0.5\n",
    "}, \"MESH\")"
   ]
  },
  {
   "cell_type": "code",
   "execution_count": 238,
   "metadata": {},
   "outputs": [],
   "source": [
    "Map.centerObject(MESH1, 5)"
   ]
  },
  {
   "cell_type": "code",
   "execution_count": 237,
   "metadata": {},
   "outputs": [],
   "source": [
    "MESH1 = ee.FeatureCollection(\n",
    "        [ee.Feature(\n",
    "            ee.Geometry.Polygon(\n",
    "                [[[126.35823708277854, 72.34141113708156],\n",
    "                  [126.36141281825218, 72.3417235695464],\n",
    "                  [126.36029701930198, 72.34232238347865],\n",
    "                  [126.36055451136741, 72.34349391909498],\n",
    "                  [126.36192780238304, 72.34474347414152],\n",
    "                  [126.36544686061058, 72.34758068744891],\n",
    "                  [126.3627861092678, 72.34791904122308],\n",
    "                  [126.3613269875637, 72.34692998946569],\n",
    "                  [126.35815125209007, 72.34487363120185],\n",
    "                  [126.35737877589378, 72.34318151695544],\n",
    "                  [126.35797959071311, 72.34164546193192]]]),\n",
    "            {\n",
    "              \"landcover\": 0,\n",
    "              \"system:index\": \"0\"\n",
    "            })]),"
   ]
  },
  {
   "cell_type": "code",
   "execution_count": 243,
   "metadata": {},
   "outputs": [],
   "source": [
    "MT = {\n",
    "  'reducer': ee.Reducer.mean(),\n",
    "  'geometry': ee.Geometry.Polygon([\n",
    "                  [126.35823708277854, 72.34141113708156],\n",
    "                  [126.36141281825218, 72.3417235695464],\n",
    "                  [126.36029701930198, 72.34232238347865],\n",
    "                  [126.36055451136741, 72.34349391909498],\n",
    "                  [126.36192780238304, 72.34474347414152],\n",
    "                  [126.36544686061058, 72.34758068744891],\n",
    "                  [126.3627861092678, 72.34791904122308],\n",
    "                  [126.3613269875637, 72.34692998946569],\n",
    "                  [126.35815125209007, 72.34487363120185],\n",
    "                  [126.35737877589378, 72.34318151695544],\n",
    "                  [126.35797959071311, 72.34164546193192]]),\n",
    "  'scale': 1000,\n",
    "  'crs': 'EPSG:46',\n",
    "  'bestEffort': True,\n",
    "  'maxPixels': 1e14,\n",
    "  'tileScale': 4}"
   ]
  },
  {
   "cell_type": "code",
   "execution_count": 244,
   "metadata": {},
   "outputs": [],
   "source": [
    "Map.centerObject(MESH1, 5)"
   ]
  },
  {
   "cell_type": "code",
   "execution_count": 245,
   "metadata": {},
   "outputs": [],
   "source": [
    "train = ee.FeatureCollection('/Users/user/Downloads/LenaDelta_Vegetation.kmz')"
   ]
  },
  {
   "cell_type": "code",
   "execution_count": 252,
   "metadata": {},
   "outputs": [],
   "source": [
    "# Display the train/test dataset\n",
    "#center = train.geometry().centroid().getInfo()['coordinates']\n",
    "#center.reverse()"
   ]
  },
  {
   "cell_type": "code",
   "execution_count": 255,
   "metadata": {},
   "outputs": [
    {
     "ename": "ModuleNotFoundError",
     "evalue": "No module named 'geopandas'",
     "output_type": "error",
     "traceback": [
      "\u001b[0;31m---------------------------------------------------------------------------\u001b[0m",
      "\u001b[0;31mModuleNotFoundError\u001b[0m                       Traceback (most recent call last)",
      "\u001b[0;32m<ipython-input-255-fad30632f580>\u001b[0m in \u001b[0;36m<module>\u001b[0;34m\u001b[0m\n\u001b[0;32m----> 1\u001b[0;31m \u001b[0;32mimport\u001b[0m \u001b[0mgeopandas\u001b[0m \u001b[0;32mas\u001b[0m \u001b[0mgpd\u001b[0m\u001b[0;34m\u001b[0m\u001b[0;34m\u001b[0m\u001b[0m\n\u001b[0m\u001b[1;32m      2\u001b[0m \u001b[0mlenaDelta\u001b[0m \u001b[0;34m=\u001b[0m \u001b[0mee\u001b[0m\u001b[0;34m.\u001b[0m\u001b[0mFeatureCollection\u001b[0m\u001b[0;34m(\u001b[0m\u001b[0mMap\u001b[0m\u001b[0;34m.\u001b[0m\u001b[0mdraw_features\u001b[0m\u001b[0;34m)\u001b[0m\u001b[0;34m\u001b[0m\u001b[0;34m\u001b[0m\u001b[0m\n\u001b[1;32m      3\u001b[0m \u001b[0;31m#selected_states = states.filterBounds(roi)\u001b[0m\u001b[0;34m\u001b[0m\u001b[0;34m\u001b[0m\u001b[0;34m\u001b[0m\u001b[0m\n\u001b[1;32m      4\u001b[0m \u001b[0;31m#Map.addLayer(selected_states, {}, \"Selected states\")\u001b[0m\u001b[0;34m\u001b[0m\u001b[0;34m\u001b[0m\u001b[0;34m\u001b[0m\u001b[0m\n\u001b[1;32m      5\u001b[0m \u001b[0;34m\u001b[0m\u001b[0m\n",
      "\u001b[0;31mModuleNotFoundError\u001b[0m: No module named 'geopandas'"
     ]
    }
   ],
   "source": [
    "import geopandas as gpd\n",
    "lenaDelta = ee.FeatureCollection(Map.draw_features)\n",
    "#selected_states = states.filterBounds(roi)\n",
    "#Map.addLayer(selected_states, {}, \"Selected states\")\n",
    "\n",
    "out_dir = os.path.join(os.path.expanduser('~'), 'Downloads')\n",
    "LenaDelta = os.path.join(out_dir, 'lenaDelta.shp')  \n",
    "\n",
    "\n",
    "#out_landsat_stats = os.path.join(out_dir, 'landsat_stats.csv') "
   ]
  },
  {
   "cell_type": "code",
   "execution_count": null,
   "metadata": {},
   "outputs": [],
   "source": []
  }
 ],
 "metadata": {
  "kernelspec": {
   "display_name": "Python 3",
   "language": "python",
   "name": "python3"
  },
  "language_info": {
   "codemirror_mode": {
    "name": "ipython",
    "version": 3
   },
   "file_extension": ".py",
   "mimetype": "text/x-python",
   "name": "python",
   "nbconvert_exporter": "python",
   "pygments_lexer": "ipython3",
   "version": "3.8.5"
  }
 },
 "nbformat": 4,
 "nbformat_minor": 4
}
