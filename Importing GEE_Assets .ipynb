{
 "cells": [
  {
   "cell_type": "code",
   "execution_count": 199,
   "metadata": {},
   "outputs": [],
   "source": [
    "import os\n",
    "import ee\n",
    "import geemap"
   ]
  },
  {
   "cell_type": "code",
   "execution_count": 200,
   "metadata": {},
   "outputs": [
    {
     "data": {
      "application/vnd.jupyter.widget-view+json": {
       "model_id": "dc733c6333eb4816bd2f5edfbe1c673c",
       "version_major": 2,
       "version_minor": 0
      },
      "text/plain": [
       "Map(center=[40, -100], controls=(WidgetControl(options=['position'], widget=HBox(children=(ToggleButton(value=…"
      ]
     },
     "metadata": {},
     "output_type": "display_data"
    }
   ],
   "source": [
    "Map = geemap.Map()\n",
    "Map\n"
   ]
  },
  {
   "cell_type": "code",
   "execution_count": 201,
   "metadata": {},
   "outputs": [
    {
     "data": {
      "application/vnd.jupyter.widget-view+json": {
       "model_id": "ab4731fa9ba646268b9c58a1cdd02a0c",
       "version_major": 2,
       "version_minor": 0
      },
      "text/plain": [
       "HBox(children=(VBox(), VBox()))"
      ]
     },
     "metadata": {},
     "output_type": "display_data"
    }
   ],
   "source": [
    "geemap.ee_search(asset_limit=1000)"
   ]
  },
  {
   "cell_type": "code",
   "execution_count": 203,
   "metadata": {},
   "outputs": [],
   "source": [
    "lenaPolygon = ee.FeatureCollection('users/reaganokoth004/LenaPolygon')\n",
    "#Map.addLayer(lenaPolygon, {}, \"LenaPolygon\")"
   ]
  },
  {
   "cell_type": "code",
   "execution_count": 204,
   "metadata": {},
   "outputs": [],
   "source": [
    "#Downloads the html files of the Doc, Assets, Script in earth engine and \n",
    "#allows you to search and import them (and the codes) to notebook \n",
    "out_dir = os.path.join(os.path.expanduser('~'), 'Downloads')\n",
    "out_csv = os.path.join(out_dir, 'ee_api.csv')\n",
    "geemap.ee_api_to_csv(out_csv)"
   ]
  },
  {
   "cell_type": "code",
   "execution_count": 205,
   "metadata": {},
   "outputs": [],
   "source": [
    "ROI = (lenaPolygon)"
   ]
  },
  {
   "cell_type": "code",
   "execution_count": 206,
   "metadata": {},
   "outputs": [],
   "source": [
    "def maskClouds(image):\n",
    "  # Bits 3 and 5 are cloud shadow and cloud, respectively.\n",
    "  cloudShadowBitMask = 1 << 3\n",
    "  cloudsBitMask = 1 << 5\n",
    "\n",
    "  # Get the pixel QA band.\n",
    "  qa = image.select('pixel_qa')\n",
    "\n",
    "  # Both flags should be set to zero, indicating clear conditions.\n",
    "  mask = qa.bitwiseAnd(cloudShadowBitMask).eq(0) \\\n",
    "      .And(qa.bitwiseAnd(cloudsBitMask).eq(0))\n",
    "\n",
    "  # Return the masked image, scaled to reflectance, without the QA bands.\n",
    "  return image.updateMask(mask).divide(10000) \\\n",
    "      .select(\"B[0-9]*\") \\\n",
    "      .copyProperties(image, [\"system:time_start\"])\n",
    "# }"
   ]
  },
  {
   "cell_type": "code",
   "execution_count": 207,
   "metadata": {},
   "outputs": [],
   "source": [
    "#import Landsat 8 images between june and August 2018 falling within ROI\n",
    "images2018 = ee.ImageCollection('LANDSAT/LC08/C01/T1_SR')\\\n",
    "         .filterBounds(ROI).filterDate('2018-06-01', '2018-08-31').map(maskClouds)\n"
   ]
  },
  {
   "cell_type": "code",
   "execution_count": 208,
   "metadata": {},
   "outputs": [],
   "source": [
    "# Compute the median in each band, each pixel.\n",
    "# Band names are B1_median, B2_median, etc.\n",
    "composite_median = images2018.reduce(ee.Reducer.median()).clip (ROI)"
   ]
  },
  {
   "cell_type": "code",
   "execution_count": 209,
   "metadata": {},
   "outputs": [
    {
     "data": {
      "application/vnd.jupyter.widget-view+json": {
       "model_id": "dc733c6333eb4816bd2f5edfbe1c673c",
       "version_major": 2,
       "version_minor": 0
      },
      "text/plain": [
       "Map(bottom=1826.0, center=[72.98881183792554, 126.34373575217435], controls=(WidgetControl(options=['position'…"
      ]
     },
     "metadata": {},
     "output_type": "display_data"
    }
   ],
   "source": [
    "# The output is an Image.  Add it to the map.\n",
    "vis_param = {'bands': ['B4_median', 'B3_median', 'B2_median'], 'gamma': 1.6}\n",
    "Map.centerObject(ROI,8)\n",
    "Map.addLayer(composite_median, vis_param, 'Median')\n",
    "\n",
    "\n",
    "# Display the map.\n",
    "Map"
   ]
  },
  {
   "cell_type": "code",
   "execution_count": 210,
   "metadata": {},
   "outputs": [],
   "source": [
    "#Calculate ndvi of a single image composite and clip it to ROI\n",
    "ndvi = composite_median.normalizedDifference(['B5_median', 'B4_median']).clip(ROI)"
   ]
  },
  {
   "cell_type": "code",
   "execution_count": 211,
   "metadata": {},
   "outputs": [],
   "source": [
    "#ndvi visualization parameters\n",
    "\n",
    "palette = ['FFFFFF', 'CE7E45', 'DF923D', 'F1B555', 'FCD163', '99B718',\n",
    "               '74A901', '66A000', '529400', '3E8601', '207401', '056201',\n",
    "               '004C00', '023B01', '012E01', '011D01', '011301']\n",
    "\n",
    "ndvi_parameters = {'min': 0,\n",
    "                   'max': 1,\n",
    "                   'palette': palette,\n",
    "                   'region': ROI}"
   ]
  },
  {
   "cell_type": "code",
   "execution_count": 212,
   "metadata": {
    "scrolled": true
   },
   "outputs": [
    {
     "data": {
      "application/vnd.jupyter.widget-view+json": {
       "model_id": "dc733c6333eb4816bd2f5edfbe1c673c",
       "version_major": 2,
       "version_minor": 0
      },
      "text/plain": [
       "Map(bottom=13224.0, center=[72.98881183792554, 126.34373575217435], controls=(WidgetControl(options=['position…"
      ]
     },
     "metadata": {},
     "output_type": "display_data"
    }
   ],
   "source": [
    "\n",
    "#add the NDVI image to the console\n",
    "Map.addLayer(ndvi, ndvi_parameters, \"NDVI\")\n",
    "Map"
   ]
  },
  {
   "cell_type": "code",
   "execution_count": 213,
   "metadata": {},
   "outputs": [],
   "source": [
    "# Use these bands for prediction.\n",
    "bands = ['B1_median','B2_median', 'B3_median', 'B4_median', 'B5_median', 'B6_median', 'B7_median']"
   ]
  },
  {
   "cell_type": "code",
   "execution_count": 214,
   "metadata": {
    "scrolled": true
   },
   "outputs": [],
   "source": [
    "TrainingData = ee.FeatureCollection('users/reaganokoth004/TrainingData')\n",
    "Map.addLayer(TrainingData, {}, \"TrainingData\")"
   ]
  },
  {
   "cell_type": "code",
   "execution_count": 215,
   "metadata": {},
   "outputs": [],
   "source": [
    "# This property of the table stores the land cover labels.\n",
    "label = 'landcover'\n",
    "\n",
    "# Overlay the points on the imagery to get training.\n",
    "training = composite_median.select(bands).sampleRegions(**{\n",
    "  'collection': TrainingData,\n",
    "  'properties': [label],\n",
    "  'scale': 30\n",
    "})"
   ]
  },
  {
   "cell_type": "code",
   "execution_count": 216,
   "metadata": {},
   "outputs": [],
   "source": [
    "# Train a CART classifier with default parameters.\n",
    "trained = ee.Classifier.cart().train(training, label, bands)"
   ]
  },
  {
   "cell_type": "code",
   "execution_count": 217,
   "metadata": {},
   "outputs": [],
   "source": [
    "# Classify the image with the same bands used for training.\n",
    "classified = composite_median.select(bands).classify(trained).clip(ROI)"
   ]
  },
  {
   "cell_type": "code",
   "execution_count": 218,
   "metadata": {},
   "outputs": [
    {
     "data": {
      "application/vnd.jupyter.widget-view+json": {
       "model_id": "dc733c6333eb4816bd2f5edfbe1c673c",
       "version_major": 2,
       "version_minor": 0
      },
      "text/plain": [
       "Map(bottom=13224.0, center=[72.98881183792554, 126.34373575217435], controls=(WidgetControl(options=['position…"
      ]
     },
     "metadata": {},
     "output_type": "display_data"
    }
   ],
   "source": [
    "Map.addLayer(classified,\n",
    "             {'min': 0, 'max': 7, \n",
    "              'palette': ['#206f1b', \n",
    "                          '#777957', \n",
    "                          '#44a243', \n",
    "                          '#208c73', \n",
    "                          '#bb7936', \n",
    "                          '#942a6e', \n",
    "                          '#f7ff22', \n",
    "                          '#202cff']},\n",
    "             'classes')\n",
    "\n",
    "\n",
    "Map\n"
   ]
  },
  {
   "cell_type": "code",
   "execution_count": 160,
   "metadata": {},
   "outputs": [],
   "source": [
    "# \"map\" the NDVI band over image collection\n",
    "#image = ee.Algorithms.Landsat.simpleComposite(**{\n",
    "#ndvi2018 = images2018_masked.map(getNDVI);\n",
    "#ndvi2018 = image.map(getNDVI)\n",
    "#print(ee.Image(ndvi2018.first()))"
   ]
  },
  {
   "cell_type": "code",
   "execution_count": 165,
   "metadata": {},
   "outputs": [],
   "source": [
    "#composite the image based on max NDVI\n",
    "#this code creats a single image composit based on max NDVI value\n",
    "#composite = ndvi2018.qualityMosaic('NDVI').clip(ROI);"
   ]
  },
  {
   "cell_type": "code",
   "execution_count": 159,
   "metadata": {},
   "outputs": [],
   "source": [
    "#Visualization params for NDVI\n",
    "#ndviPalette = ['FFFFFF', 'CE7E45', 'DF923D', 'F1B555', 'FCD163', '99B718',\n",
    " #              '74A901', '66A000', '529400', '3E8601', '207401', '056201',\n",
    " #              '004C00', '023B01', '012E01', '011D01', '011301'];\n",
    "               "
   ]
  },
  {
   "cell_type": "code",
   "execution_count": 158,
   "metadata": {},
   "outputs": [],
   "source": [
    "#Calculate ndvi (develop ndvi function) that can be mapped on multiple images\n",
    "\n",
    "#def getNDVI(img):\n",
    " # return img.addBands(img.normalizedDifference(ee.List(['B5', 'B4'])).rename('NDVI'))"
   ]
  },
  {
   "cell_type": "code",
   "execution_count": 156,
   "metadata": {},
   "outputs": [],
   "source": [
    "#make a composite from the image collection using landsat simple composite algorithm,\n",
    "#filter the images by date and apply cloudmaks to the composite\n",
    "#image = ee.Algorithms.Landsat.simpleComposite(**{\n",
    "#  'collection': images2018,\n",
    "#  'asFloat': True\n",
    "#})\n",
    "#print (image)"
   ]
  },
  {
   "cell_type": "code",
   "execution_count": 157,
   "metadata": {},
   "outputs": [],
   "source": [
    "\n",
    "# apply the masking function on the image collection\n",
    "#images2018_masked = images2018.map(maskClouds)\n",
    "\n",
    "# visualize the first image in the collection, pre- and post- mask\n",
    "#visParams = {\n",
    "#    'bands': ['B4','B3','B2'], \n",
    " #   'min': 0, \n",
    "  #  'max': 3000}\n",
    "\n",
    "#Map.addLayer(ee.Image(images2018_masked.first()), visParams, 'cloudsmasked_2018', False)\n",
    "#Map.addLayer(ee.Image(images2018.first()), visParams, 'original_2018', False)"
   ]
  },
  {
   "cell_type": "code",
   "execution_count": 173,
   "metadata": {},
   "outputs": [],
   "source": [
    "#areaImage = ee.Image.pixelArea().addBands(\n",
    "#      classified)"
   ]
  },
  {
   "cell_type": "code",
   "execution_count": 178,
   "metadata": {},
   "outputs": [],
   "source": [
    "#classImage = ee.Image(classified).select('landcover')\n",
    "#region = ee.Geometry.Point(lenaPolygon)"
   ]
  },
  {
   "cell_type": "code",
   "execution_count": 188,
   "metadata": {},
   "outputs": [],
   "source": [
    "#class_areas = ee.Image.pixelArea().addBands(classImage).reduceRegion(**\n",
    "    {\n",
    " #     'reducer': ee.Reducer.sum().group(**{\n",
    "  #    'groupField': 1,\n",
    " #     'groupName': 'landcover',\n",
    "  #  }),\n",
    "  #  'geometry': region,\n",
    "  #  'scale': 1,  # sample the geometry at 1m intervals\n",
    " #   'maxPixels': 1e10\n",
    "  #}).get('groups');\n",
    "\n"
   ]
  },
  {
   "cell_type": "code",
   "execution_count": 197,
   "metadata": {},
   "outputs": [
    {
     "ename": "IndentationError",
     "evalue": "unindent does not match any outer indentation level (<tokenize>, line 8)",
     "output_type": "error",
     "traceback": [
      "\u001b[0;36m  File \u001b[0;32m\"<tokenize>\"\u001b[0;36m, line \u001b[0;32m8\u001b[0m\n\u001b[0;31m    return ee.List([classNumber, class_areas])\u001b[0m\n\u001b[0m    ^\u001b[0m\n\u001b[0;31mIndentationError\u001b[0m\u001b[0;31m:\u001b[0m unindent does not match any outer indentation level\n"
     ]
    }
   ],
   "source": [
    "\n"
   ]
  },
  {
   "cell_type": "code",
   "execution_count": null,
   "metadata": {},
   "outputs": [],
   "source": []
  }
 ],
 "metadata": {
  "kernelspec": {
   "display_name": "Python 3",
   "language": "python",
   "name": "python3"
  },
  "language_info": {
   "codemirror_mode": {
    "name": "ipython",
    "version": 3
   },
   "file_extension": ".py",
   "mimetype": "text/x-python",
   "name": "python",
   "nbconvert_exporter": "python",
   "pygments_lexer": "ipython3",
   "version": "3.7.3"
  }
 },
 "nbformat": 4,
 "nbformat_minor": 4
}
